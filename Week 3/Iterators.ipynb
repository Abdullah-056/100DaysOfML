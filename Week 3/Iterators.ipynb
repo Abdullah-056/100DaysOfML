{
 "cells": [
  {
   "cell_type": "markdown",
   "metadata": {},
   "source": [
    "# Iterators and Generators"
   ]
  },
  {
   "cell_type": "markdown",
   "metadata": {},
   "source": [
    "## Iterators"
   ]
  },
  {
   "cell_type": "markdown",
   "metadata": {},
   "source": [
    "**Iterable**\n",
    "\n",
    "An iterable is any Python object that can be looped over, like lists, tuples, strings, or dictionaries. It provides a sequence of elements you can access one by one.\n",
    "\n",
    "**Iterator**\n",
    "\n",
    "An iterator is an object that produces the next value in a sequence when requested. It implements the iterator protocol, allowing you to traverse through elements without loading them all into memory at once.\n",
    "\n",
    "**Generator**\n",
    "\n",
    "A generator is a special type of function that returns an iterator. It uses the yield keyword to produce values on demand, making it memory-efficient for large sequences.\n",
    "\n",
    "**Lazy Evaluation**\n",
    "\n",
    "Lazy evaluation is a strategy where expressions or values are only computed when they are actually needed. This avoids unnecessary computations and saves memory, especially for large datasets.\n",
    "\n",
    "**Iterator Protocol**\n",
    "\n",
    "The iterator protocol defines how iterators should behave in Python. It requires objects to implement the __iter__() and __next__() methods.\n",
    "\n",
    "`next()`\n",
    "\n",
    "The next() function is a built-in Python function that retrieves the next item from an iterator. It raises a StopIteration exception when there are no more items.\n",
    "\n",
    "`iter()`\n",
    "\n",
    "The iter() function converts an iterable object into an iterator. You can then use next() on the resulting iterator to access its elements.\n",
    "\n",
    "`yield`\n",
    "\n",
    "The yield keyword is used within generator functions. Instead of returning a value and terminating, yield produces a value and pauses the function, preserving its state for the next call."
   ]
  },
  {
   "cell_type": "code",
   "execution_count": 1,
   "metadata": {},
   "outputs": [
    {
     "name": "stdout",
     "output_type": "stream",
     "text": [
      "1\n",
      "2\n",
      "3\n",
      "4\n",
      "5\n",
      "6\n"
     ]
    }
   ],
   "source": [
    "list = [1, 2, 3, 4, 5, 6]\n",
    "for item in list:\n",
    "    print(item)"
   ]
  },
  {
   "cell_type": "markdown",
   "metadata": {},
   "source": [
    "terators take responsibility for two main actions:\n",
    "\n",
    "- Returning the data from a stream or container one item at a time\n",
    "- Keeping track of the current and visited items"
   ]
  },
  {
   "cell_type": "code",
   "execution_count": 4,
   "metadata": {},
   "outputs": [
    {
     "name": "stdout",
     "output_type": "stream",
     "text": [
      "<list_iterator object at 0x00000241B65A7790>\n",
      "An error Occured\n"
     ]
    }
   ],
   "source": [
    "print(iter(list))       # Although the list by itself is not an iterator,\n",
    "#  calling the iter() function converts it to an iterator and returns the iterator object.\n",
    "try:\n",
    "    print(next(list))\n",
    "except:\n",
    "    print(\"An error Occured\")\n"
   ]
  },
  {
   "cell_type": "code",
   "execution_count": 6,
   "metadata": {},
   "outputs": [
    {
     "name": "stdout",
     "output_type": "stream",
     "text": [
      "1\n",
      "2\n",
      "3\n",
      "4\n",
      "4\n"
     ]
    }
   ],
   "source": [
    "listed = [1,2,3,4,4,5]\n",
    "iter_listed = iter(listed)\n",
    "print(next(iter_listed))\n",
    "print(next(iter_listed))\n",
    "print(next(iter_listed))\n",
    "print(next(iter_listed))\n",
    "print(next(iter_listed))"
   ]
  },
  {
   "cell_type": "code",
   "execution_count": 7,
   "metadata": {},
   "outputs": [
    {
     "name": "stdout",
     "output_type": "stream",
     "text": [
      "1\n",
      "2\n",
      "3\n",
      "4\n",
      "4\n",
      "5\n"
     ]
    }
   ],
   "source": [
    "# Python automatically produces an iterator object whenever you attempt to loop through an iterable object. \n",
    "for iter in listed:\n",
    "    print(iter)"
   ]
  },
  {
   "cell_type": "code",
   "execution_count": 10,
   "metadata": {},
   "outputs": [
    {
     "name": "stdout",
     "output_type": "stream",
     "text": [
      "set()\n",
      "()\n"
     ]
    }
   ],
   "source": [
    "print(set(iter_listed))\n",
    "print(tuple(iter_listed))"
   ]
  },
  {
   "cell_type": "markdown",
   "metadata": {},
   "source": [
    "An iterator in Python is an object that holds a sequence of values and provide sequential traversal through a collection of items such as lists, tuples and dictionaries. . The Python iterators object is initialized using the iter() method. It uses the next() method for iteration.\n",
    "\n",
    "- `__iter__()`: __iter__() method initializes and returns the iterator object itself.\n",
    "- `__next__()`: the __next__() method retrieves the next available item, throwing a StopIteration exception when no more items are available."
   ]
  },
  {
   "cell_type": "markdown",
   "metadata": {},
   "source": [
    "### Setting Custom Iterator\n",
    "Creating a custom iterator in Python involves defining a class that implements the __iter__() and __next__() methods according to the Python iterator protocol.\n",
    "\n",
    "- **Define the Class**: Start by defining a class that will act as the iterator.\n",
    "- **Initialize Attributes**: In the __init__() method of the class, initialize any required attributes that will be used throughout the iteration process.\n",
    "- **Implement __iter__()**: This method should return the iterator object itself. This is usually as simple as returning self.\n",
    "- **Implement __next__()**: This method should provide the next item in the sequence each time it’s called."
   ]
  },
  {
   "cell_type": "code",
   "execution_count": 43,
   "metadata": {},
   "outputs": [
    {
     "name": "stdout",
     "output_type": "stream",
     "text": [
      "2\n",
      "4\n",
      "6\n"
     ]
    }
   ],
   "source": [
    "class EvenNumbers:\n",
    "    def __init__(self, start=2):\n",
    "        self.n = start\n",
    "\n",
    "    def __iter__(self):\n",
    "        return self\n",
    "\n",
    "    def __next__(self):\n",
    "        x = self.n\n",
    "        self.n += 2\n",
    "        return x \n",
    "\n",
    "# Ensure no variable named `iter` exists\n",
    "even = EvenNumbers()\n",
    "\n",
    "print(next(even))  # Output: 2\n",
    "print(next(even))  # Output: 4\n",
    "print(next(even))  # Output: 6\n"
   ]
  },
  {
   "cell_type": "markdown",
   "metadata": {},
   "source": [
    "### StopIteration Exception\n",
    "The StopIteration exception is integrated with Python’s iterator protocol. It signals that the iterator has no more items to return. Once this exception is raised, further calls to next() on the same iterator will continue raising StopIteration."
   ]
  },
  {
   "cell_type": "code",
   "execution_count": 50,
   "metadata": {},
   "outputs": [
    {
     "ename": "TypeError",
     "evalue": "'int' object is not callable",
     "output_type": "error",
     "traceback": [
      "\u001b[1;31m---------------------------------------------------------------------------\u001b[0m",
      "\u001b[1;31mTypeError\u001b[0m                                 Traceback (most recent call last)",
      "Cell \u001b[1;32mIn[50], line 2\u001b[0m\n\u001b[0;32m      1\u001b[0m listed \u001b[38;5;241m=\u001b[39m [\u001b[38;5;241m100\u001b[39m, \u001b[38;5;241m200\u001b[39m, \u001b[38;5;241m300\u001b[39m, \u001b[38;5;241m400\u001b[39m, \u001b[38;5;241m500\u001b[39m]\n\u001b[1;32m----> 2\u001b[0m lis \u001b[38;5;241m=\u001b[39m \u001b[38;5;28;43miter\u001b[39;49m\u001b[43m(\u001b[49m\u001b[43mlisted\u001b[49m\u001b[43m)\u001b[49m  \u001b[38;5;66;03m# Create an iterator from the list\u001b[39;00m\n\u001b[0;32m      4\u001b[0m \u001b[38;5;28;01mwhile\u001b[39;00m \u001b[38;5;28;01mTrue\u001b[39;00m:\n\u001b[0;32m      5\u001b[0m     \u001b[38;5;28;01mtry\u001b[39;00m:\n",
      "\u001b[1;31mTypeError\u001b[0m: 'int' object is not callable"
     ]
    }
   ],
   "source": [
    "listed = [100, 200, 300, 400, 500]\n",
    "lis = iter(listed)  # Create an iterator from the list\n",
    "\n",
    "while True:\n",
    "    try:\n",
    "        print(next(lis))  # Use the iterator, not the list\n",
    "    except StopIteration:\n",
    "        print(\"Iteration has ended\")\n",
    "        break\n"
   ]
  },
  {
   "cell_type": "code",
   "execution_count": null,
   "metadata": {},
   "outputs": [],
   "source": []
  },
  {
   "cell_type": "markdown",
   "metadata": {},
   "source": [
    "### StopIteration Exception\n",
    "The StopIteration exception is integrated with Python’s iterator protocol. It signals that the iterator has no more items to return. Once this exception is raised, further calls to next() on the same iterator will continue raising StopIteration."
   ]
  },
  {
   "cell_type": "code",
   "execution_count": 51,
   "metadata": {},
   "outputs": [
    {
     "name": "stdout",
     "output_type": "stream",
     "text": [
      "100\n",
      "200\n",
      "300\n",
      "400\n",
      "500\n",
      "Iteration has ended\n"
     ]
    }
   ],
   "source": [
    "from builtins import iter\n",
    "\n",
    "listed = [100, 200, 300, 400, 500]\n",
    "lis = iter(listed)\n",
    "\n",
    "while True:\n",
    "    try:\n",
    "        print(next(lis))\n",
    "    except StopIteration:\n",
    "        print(\"Iteration has ended\")\n",
    "        break"
   ]
  },
  {
   "cell_type": "markdown",
   "metadata": {},
   "source": [
    "## Generators"
   ]
  },
  {
   "cell_type": "markdown",
   "metadata": {},
   "source": [
    "A generator function is a special type of function that returns an iterator object. Instead of using `return` to send back a single value, generator functions use `yield` to produce a series of results over time. This allows the function to generate values and pause its execution after each yield, maintaining its state between iterations."
   ]
  },
  {
   "cell_type": "markdown",
   "metadata": {},
   "source": [
    "### Yield"
   ]
  },
  {
   "cell_type": "markdown",
   "metadata": {},
   "source": [
    "In Python, the yield keyword is used to create generators, which are special types of iterators that allow values to be produced lazily, one at a time, instead of returning them all at once. "
   ]
  },
  {
   "cell_type": "code",
   "execution_count": 1,
   "metadata": {},
   "outputs": [
    {
     "name": "stdout",
     "output_type": "stream",
     "text": [
      "0\n",
      "1\n",
      "4\n",
      "9\n",
      "16\n",
      "25\n",
      "36\n",
      "49\n",
      "64\n",
      "81\n"
     ]
    }
   ],
   "source": [
    "def square(no):\n",
    "    for i in range(no):\n",
    "        yield(i*i)\n",
    "\n",
    "for value in square(10):\n",
    "    print(value)"
   ]
  },
  {
   "cell_type": "code",
   "execution_count": 3,
   "metadata": {},
   "outputs": [
    {
     "name": "stdout",
     "output_type": "stream",
     "text": [
      "[0, 1, 4, 9, 16, 25, 36, 49, 64, 81]\n"
     ]
    }
   ],
   "source": [
    "# If we use return statement\n",
    "def square(no):\n",
    "    data = []\n",
    "    for i in range(no):\n",
    "        data.append(i*i)\n",
    "\n",
    "    return data\n",
    "final = square(10)\n",
    "print(final)"
   ]
  },
  {
   "cell_type": "markdown",
   "metadata": {},
   "source": [
    "### Advantages of using yield\n",
    "- **Memory Efficiency:** Since the function doesn’t store the entire result in memory, it is useful for handling large data sets.\n",
    "- **State Retention:** Variables inside the generator function retain their state between calls.\n",
    "- **Lazy Evaluation:** Values are generated on demand rather than all at once.\n",
    "### Disadvantages of Using yield\n",
    "- **Complexity:** Using yield can make the code harder to understand and maintain, especially for beginners.\n",
    "- **State Management**: Keeping track of the generator’s state requires careful handling.\n",
    "- **Limited Use Cases:** Generators do not support indexing or random access to elements."
   ]
  },
  {
   "cell_type": "code",
   "execution_count": 7,
   "metadata": {},
   "outputs": [
    {
     "name": "stdout",
     "output_type": "stream",
     "text": [
      "1 2 3 4 5 6 7 8 9 10 "
     ]
    }
   ],
   "source": [
    "# Infinte sequence Generator\n",
    "def infinite_sequence():\n",
    "    num=0\n",
    "    while True:\n",
    "        num = num+1\n",
    "        yield num \n",
    "\n",
    "number = infinite_sequence()\n",
    "for i in range(10):\n",
    "    print(next(number), end =\" \")"
   ]
  },
  {
   "cell_type": "code",
   "execution_count": 8,
   "metadata": {},
   "outputs": [
    {
     "name": "stdout",
     "output_type": "stream",
     "text": [
      "3\n"
     ]
    }
   ],
   "source": [
    "# Extract special words from sentences\n",
    "def find(word, keyword):\n",
    "    words = word.split(\" \")\n",
    "    for data in words:\n",
    "        if(data == keyword):\n",
    "            yield True\n",
    "\n",
    "sentence = \"geek for geek in geek\"\n",
    "search =  find(sentence, 'geek')\n",
    "print(sum(search))"
   ]
  }
 ],
 "metadata": {
  "kernelspec": {
   "display_name": "base",
   "language": "python",
   "name": "python3"
  },
  "language_info": {
   "codemirror_mode": {
    "name": "ipython",
    "version": 3
   },
   "file_extension": ".py",
   "mimetype": "text/x-python",
   "name": "python",
   "nbconvert_exporter": "python",
   "pygments_lexer": "ipython3",
   "version": "3.11.9"
  }
 },
 "nbformat": 4,
 "nbformat_minor": 2
}
