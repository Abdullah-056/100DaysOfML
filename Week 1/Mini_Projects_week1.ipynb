{
 "cells": [
  {
   "cell_type": "markdown",
   "metadata": {},
   "source": [
    "# Mini Projects "
   ]
  },
  {
   "cell_type": "markdown",
   "metadata": {},
   "source": [
    "Question 1: User Data Collector\n",
    "Task:\n",
    "\n",
    "- Prompt the user to enter their name, age, email, and favorite number.\n",
    "- Store them in a dictionary.\n",
    "- Validate the email format (must contain @ and .).\n",
    "- Display a formatted output.\n"
   ]
  },
  {
   "cell_type": "code",
   "execution_count": 4,
   "metadata": {},
   "outputs": [],
   "source": [
    "data = {'name': '', 'age': '', 'email': '', 'favorite_number': ''}\n",
    "# Creating a dictationary to store values\n",
    "i=1\n"
   ]
  },
  {
   "cell_type": "code",
   "execution_count": 8,
   "metadata": {},
   "outputs": [
    {
     "name": "stdout",
     "output_type": "stream",
     "text": [
      "Ab@gmai.com is a valid email address.\n",
      "{'name': 'Abd', 'age': '33', 'email': 'Ab@gmai.com', 'favorite_number': '33'}\n"
     ]
    }
   ],
   "source": [
    "\n",
    "name1 = input(\"Enter your name: \")\n",
    "age1 = input(\"Enter your age: \")\n",
    "email1 = input(\"Enter your email: \")\n",
    "favorite_number1 = input(\"Enter your favorite number: \")\n",
    "data['name'] = name1\n",
    "data['age'] = age1\n",
    "data['email'] = email1\n",
    "data['favorite_number'] = favorite_number1\n",
    "if '@' in email1 and '.' in email1:\n",
    "    print(f\"{email1} is a valid email address.\")\n",
    "else:\n",
    "    print(f\"{email1} is not a valid email address.\")\n",
    "\n",
    "\n",
    "print(data)"
   ]
  },
  {
   "cell_type": "markdown",
   "metadata": {},
   "source": [
    "Question 2: Even or Odd?\n",
    "Concepts Used: Functions, conditionals\n",
    "\n",
    "Task:\n",
    "Create a function Is_even(number) that checks if a number is even.\n",
    "Print whether the number is even or odd.\n"
   ]
  },
  {
   "cell_type": "code",
   "execution_count": 9,
   "metadata": {},
   "outputs": [
    {
     "name": "stdout",
     "output_type": "stream",
     "text": [
      "Even\n"
     ]
    }
   ],
   "source": [
    "def is_even(no):\n",
    "    if no%2==0:\n",
    "        print(\"Even\")\n",
    "    else:\n",
    "        print(\"Odd\")\n",
    "\n",
    "no = int(input(\"Enter a number: \"))\n",
    "is_even(no)\n",
    "\n"
   ]
  },
  {
   "cell_type": "markdown",
   "metadata": {},
   "source": [
    "Task:\n",
    "\n",
    "- Create a function convert_temperature(temp, scale) that takes:\n",
    "- A temperature value\n",
    "- A scale (\"C\" for Celsius, \"F\" for Fahrenheit)\n",
    "Convert:\n",
    "- Celsius → Fahrenheit: (temp * 9/5) + 32\n",
    "- Fahrenheit → Celsius: (temp - 32) * 5/9\n",
    "Display the converted temperature.\n"
   ]
  },
  {
   "cell_type": "code",
   "execution_count": 18,
   "metadata": {},
   "outputs": [
    {
     "name": "stdout",
     "output_type": "stream",
     "text": [
      "The converted temperature is 7.22.\n"
     ]
    }
   ],
   "source": [
    "def convert_temperature(temp, scale):\n",
    "    if scale == \"F\":\n",
    "        return ((temp * (9.0/5.0)) + 32.0)\n",
    "    elif scale == \"C\":\n",
    "        return ((temp-32.0)*(5.0/9.0))\n",
    "    else:\n",
    "        return \"Invalid scale\"\n",
    "\n",
    "temp = 45\n",
    "scale = input(\"Enter the scale  you want to convert to (C or F): \")\n",
    "converted_temp = convert_temperature(temp, scale)\n",
    "print(f\"The converted temperature is {converted_temp:.2f}.\")\n"
   ]
  },
  {
   "cell_type": "markdown",
   "metadata": {},
   "source": [
    "Task:\n",
    "\n",
    "Create a function find_max_min(numbers_list) that returns the max and min values from a list.\n",
    "\n",
    "Prompt the user to enter 5 numbers, store them in a list, and find the min/max."
   ]
  },
  {
   "cell_type": "code",
   "execution_count": null,
   "metadata": {},
   "outputs": [
    {
     "name": "stdout",
     "output_type": "stream",
     "text": [
      "Minimum value: 1, Maximum value: 4\n"
     ]
    }
   ],
   "source": [
    "def find_min(numbers):\n",
    "    min_val = numbers[0]\n",
    "    for num in numbers:\n",
    "        if num < min_val:\n",
    "            min_val = num\n",
    "    return min_val\n",
    "\n",
    "def find_max(numbers):\n",
    "    max_val = numbers[0]\n",
    "    for num in numbers:\n",
    "        if num > max_val:\n",
    "            max_val = num\n",
    "    return max_val\n",
    "\n",
    "\n",
    "length = input(\"Enter Length of list: \")\n",
    "numbers = []\n",
    "for i in range(int(length)):\n",
    "    numbers.append(int(input(\"Enter a number: \")))\n",
    "minimum = find_min(numbers)\n",
    "maximum = find_max(numbers)\n",
    "print(numbers)\n",
    "print(f\"Minimum value: {minimum}, Maximum value: {maximum}\")\n"
   ]
  },
  {
   "cell_type": "code",
   "execution_count": 33,
   "metadata": {},
   "outputs": [
    {
     "name": "stdout",
     "output_type": "stream",
     "text": [
      "{'a': 1, 'b': 2, 'c': 3, 'd': 4, 'e': 5}\n",
      "{0: 1, 1: 2, 2: 3, 3: 4, 4: 5}\n",
      "{'a': 1, 'b': 2, 'c': 3, 'd': 4, 'e': 5}\n"
     ]
    }
   ],
   "source": [
    "# Some methods to convert a tuple to dictionary\n",
    "\n",
    "# To convert a tuple to dictionary, we need key-value pairs\n",
    "# Method 1: Using zip with two sequences\n",
    "keys = ['a', 'b', 'c', 'd', 'e']  # Create keys\n",
    "dictionary = dict(zip(keys, tuple))  # Zip keys with tuple values\n",
    "print(dictionary)\n",
    "\n",
    "# Method 2: Using enumerate if you want numeric keys\n",
    "dictionary2 = dict(enumerate(tuple))  # Creates {0:1, 1:2, 2:3, ...}\n",
    "print(dictionary2)\n",
    "\n",
    "# Method 3: Creating pairs within the tuple\n",
    "tuple_pairs = (('a',1), ('b',2), ('c',3), ('d',4), ('e',5))\n",
    "dictionary3 = dict(tuple_pairs)\n",
    "print(dictionary3)\n",
    "\n"
   ]
  },
  {
   "cell_type": "markdown",
   "metadata": {},
   "source": [
    " Task:\n",
    "\n",
    "- Prompt the user to enter details of 3 students (name, age, grade).\n",
    "- Store them as tuples in a list.\n",
    "- Convert this list into a dictionary, where:\n",
    "- Key → Student name\n",
    "- Value → Tuple (age, grade)\n",
    "- Display the dictionary.\n"
   ]
  },
  {
   "cell_type": "code",
   "execution_count": null,
   "metadata": {},
   "outputs": [
    {
     "data": {
      "text/plain": [
       "{'Ali': (22, 43), 'Usman': (12, 56), 'Abu': (33, 47)}"
      ]
     },
     "execution_count": 46,
     "metadata": {},
     "output_type": "execute_result"
    }
   ],
   "source": [
    "tuple_final = []\n",
    "for i in range(3):\n",
    "    name = input(\"Enter name: \")\n",
    "    age = int(input(\"Enter age: \"))\n",
    "    score = int(input(\"Enter score: \"))\n",
    "    tuple_final.append((name, age, score))\n",
    "\n",
    "dict = {tuple_final[i][0]: (tuple_final[i][1], tuple_final[i][2]) for i in range(len(tuple_final))}\n",
    "dict\n"
   ]
  },
  {
   "cell_type": "markdown",
   "metadata": {},
   "source": [
    "**Question 6: Inventory Management System**"
   ]
  },
  {
   "cell_type": "code",
   "execution_count": 48,
   "metadata": {},
   "outputs": [
    {
     "name": "stdout",
     "output_type": "stream",
     "text": [
      "We have apples, bananas, mangoes, oranges, and pineapples in our inventory.\n"
     ]
    },
    {
     "data": {
      "text/plain": [
       "{'apples': 10, 'bananas': 2, 'mangoes': 3, 'oranges': 4, 'pineapples': 0}"
      ]
     },
     "execution_count": 48,
     "metadata": {},
     "output_type": "execute_result"
    }
   ],
   "source": [
    "def update_inventory(inventory, item, quantity):\n",
    "    if item in inventory:\n",
    "        inventory[item] += quantity\n",
    "    else:\n",
    "        inventory[item] = quantity\n",
    "    return inventory\n",
    "\n",
    "inven = {'apples':4,'bananas':2,'mangoes':3,'oranges':4,'pineapples':0}\n",
    "print(\"We have apples, bananas, mangoes, oranges, and pineapples in our inventory.\")\n",
    "item = input(\"Enter the item you want to update: \")\n",
    "quan = int(input(\"Enter Quantity: \"))\n",
    "update_inventory(inven, item, quan)\n"
   ]
  },
  {
   "cell_type": "code",
   "execution_count": null,
   "metadata": {},
   "outputs": [],
   "source": []
  }
 ],
 "metadata": {
  "kernelspec": {
   "display_name": "base",
   "language": "python",
   "name": "python3"
  },
  "language_info": {
   "codemirror_mode": {
    "name": "ipython",
    "version": 3
   },
   "file_extension": ".py",
   "mimetype": "text/x-python",
   "name": "python",
   "nbconvert_exporter": "python",
   "pygments_lexer": "ipython3",
   "version": "3.11.9"
  }
 },
 "nbformat": 4,
 "nbformat_minor": 2
}
