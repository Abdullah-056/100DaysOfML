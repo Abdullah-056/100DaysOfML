{
 "cells": [
  {
   "cell_type": "markdown",
   "metadata": {},
   "source": [
    "# Task 3 "
   ]
  },
  {
   "cell_type": "code",
   "execution_count": 19,
   "metadata": {},
   "outputs": [],
   "source": [
    "list1 = [1, 2, 3, 4, 5, 6, 7, 8, 9, 1, 2, 3, 4, 5, 6]\n",
    "list2 = [3, 7, 2, 9, 4, 1, 8, 5, 6, 2, 9, 4, 7, 3, 1]\n",
    "length1 = len(list1)\n",
    "length2 = len(list2)\n"
   ]
  },
  {
   "cell_type": "code",
   "execution_count": 20,
   "metadata": {},
   "outputs": [
    {
     "name": "stdout",
     "output_type": "stream",
     "text": [
      "Root Square Error: 12.60\n",
      "Root Mean Square Error: 3.55\n"
     ]
    }
   ],
   "source": [
    "# Root Square Error\n",
    "if length1 == length2:\n",
    "    squared_diff = [(list1[i] - list2[i])**2 for i in range(length1)]\n",
    "    RSE = (sum(squared_diff)/length1)\n",
    "    print(f\"Root Square Error: {RSE:.2f}\")\n",
    "    # Root Mean Square Error    \n",
    "    RMSE = RSE**0.5\n",
    "    print(f\"Root Mean Square Error: {RMSE:.2f}\")\n",
    "else:\n",
    "    print(\"Lists are not of the same length\")   \n",
    "\n",
    "\n"
   ]
  },
  {
   "cell_type": "code",
   "execution_count": 21,
   "metadata": {},
   "outputs": [
    {
     "name": "stdout",
     "output_type": "stream",
     "text": [
      "Cosine Similarity: 4.616214071258597\n"
     ]
    }
   ],
   "source": [
    "# Cosine Similarity\n",
    "    \n",
    "product = sum([list1[i] * list2[i] for i in range(length1)])\n",
    "\n",
    "magnitude_l1 = sum([list1[i] for i in range(length1)]) ** 0.5\n",
    "magnitude_l2 = sum([list2[i] for i in range(length1)]) ** 0.5\n",
    "\n",
    "# Step 3: Calculate cosine similarity\n",
    "cosine_similarity = product / (magnitude_l1 * magnitude_l2)\n",
    "\n",
    "print(f\"Cosine Similarity: {cosine_similarity}\")\n",
    "\n"
   ]
  },
  {
   "cell_type": "code",
   "execution_count": 27,
   "metadata": {},
   "outputs": [
    {
     "name": "stdout",
     "output_type": "stream",
     "text": [
      "Slope (m): 0.04205607476635514\n",
      "Intercept (b): 4.548286604361371\n",
      "Predicted values: [4.59, 4.63, 4.67, 4.72, 4.76, 4.8, 4.84, 4.88, 4.93, 4.59, 4.63, 4.67, 4.72, 4.76, 4.8]\n"
     ]
    }
   ],
   "source": [
    "# Linear Regression\n",
    "# Example data: list1 = independent variable, list2 = dependent variable\n",
    "\n",
    "sum_list1 = sum(list1)\n",
    "sum_list2 = sum(list2)\n",
    "sum_lists = sum([list1[i] * list2[i] for i in range(length1)])\n",
    "sum_lists_squared = sum([list1[i]**2 for i in range(length1)])\n",
    "\n",
    "# Step 2: Calculate the slope (m) and intercept (b)\n",
    "m = (length1 * sum_lists - sum_list1 * sum_list2) / (length1 * sum_lists_squared - sum_list1 ** 2)\n",
    "b = (sum_list2 - m * sum_list1) / length1\n",
    "\n",
    "print(f\"Slope (m): {m}\")\n",
    "print(f\"Intercept (b): {b}\")\n",
    "\n",
    "# Step 3: Making predictions using the linear regression model\n",
    "predictions = []\n",
    "for i in range(length1):\n",
    "    pred = m * list1[i] + b\n",
    "    predictions.append(pred)\n",
    "print(f\"Predicted values: {[round(p, 2) for p in predictions]}\")\n"
   ]
  },
  {
   "cell_type": "code",
   "execution_count": 36,
   "metadata": {},
   "outputs": [
    {
     "name": "stdout",
     "output_type": "stream",
     "text": [
      "Softmax values: [0.00043, 0.00116, 0.00314, 0.06308, 0.4661, 0.4661]\n"
     ]
    }
   ],
   "source": [
    "# Softmax Function\n",
    "# Example input vector\n",
    "z  = [1.0, 2.0, 3.0, 6.0, 8.0, 8.0]\n",
    "\n",
    "# Step 1: Calculate the exponentials of the elements in the input vector\n",
    "exp_z = [2.718281828459045 ** x for x in z]\n",
    "sum_exp_z = sum(exp_z)\n",
    "\n",
    "# Step 3: Calculate the softmax values by dividing each exponential by the sum of exponentials\n",
    "softmax = [exp_val / sum_exp_z for exp_val in exp_z]\n",
    "\n",
    "print(f\"Softmax values: {[round(x, 5) for x in softmax]}\")\n",
    "\n"
   ]
  }
 ],
 "metadata": {
  "kernelspec": {
   "display_name": "base",
   "language": "python",
   "name": "python3"
  },
  "language_info": {
   "codemirror_mode": {
    "name": "ipython",
    "version": 3
   },
   "file_extension": ".py",
   "mimetype": "text/x-python",
   "name": "python",
   "nbconvert_exporter": "python",
   "pygments_lexer": "ipython3",
   "version": "3.11.9"
  }
 },
 "nbformat": 4,
 "nbformat_minor": 2
}
