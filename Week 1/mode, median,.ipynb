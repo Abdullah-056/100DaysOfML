{
 "cells": [
  {
   "cell_type": "markdown",
   "metadata": {},
   "source": [
    "# Task2"
   ]
  },
  {
   "cell_type": "code",
   "execution_count": 20,
   "metadata": {},
   "outputs": [
    {
     "data": {
      "text/plain": [
       "14"
      ]
     },
     "execution_count": 20,
     "metadata": {},
     "output_type": "execute_result"
    }
   ],
   "source": [
    "array = [1,2,3,4,4,6,6,7,8,9,0,1,1,1]\n",
    "len(array)\n"
   ]
  },
  {
   "cell_type": "code",
   "execution_count": 21,
   "metadata": {},
   "outputs": [
    {
     "name": "stdout",
     "output_type": "stream",
     "text": [
      "Mean of the array is 3.79\n",
      "Median of the array is 3.50\n",
      "{0: 1, 1: 4, 2: 1, 3: 1, 4: 2, 6: 2, 7: 1, 8: 1, 9: 1}\n",
      "Mode of the array is 1\n"
     ]
    }
   ],
   "source": [
    "## Mean\n",
    "mean = sum(array)/len(array)\n",
    "print(f\"Mean of the array is {mean:.2f}\")\n",
    "\n",
    "length = len(array)\n",
    "## Median\n",
    "array.sort()\n",
    "if(len(array)%2==0):\n",
    "    median = (array[length//2 -1] + array[length//2])/2\n",
    "else:\n",
    "    median = array[length//2]\n",
    "print(f\"Median of the array is {median:.2f}\")\n",
    "\n",
    "# Mode \n",
    "# Create a dictionary to store frequency of each element\n",
    "frequency = {}\n",
    "for num in array:\n",
    "    if num in frequency:\n",
    "        frequency[num] += 1\n",
    "    else:\n",
    "        frequency[num] = 1\n",
    "\n",
    "print(frequency)\n",
    "\n",
    "# Find the number with maximum frequency\n",
    "mode = array[0]  # Initialize with first element\n",
    "max_freq = frequency[array[0]]\n",
    "\n",
    "for num in frequency:\n",
    "    if frequency[num] > max_freq:\n",
    "        mode = num\n",
    "        max_freq = frequency[num]\n",
    "\n",
    "print(f\"Mode of the array is {mode}\")\n",
    "\n",
    "\n"
   ]
  },
  {
   "cell_type": "code",
   "execution_count": 22,
   "metadata": {},
   "outputs": [
    {
     "name": "stdout",
     "output_type": "stream",
     "text": [
      "Varience of the array is 8.17\n",
      "Standard Deviation of the array is 2.86\n"
     ]
    }
   ],
   "source": [
    "# Varience \n",
    "var=0\n",
    "for i in array:\n",
    "    var = var +  ((i-mean)**2)\n",
    "var = var/length\n",
    "print(f\"Varience of the array is {var:.2f}\")\n",
    "\n",
    "# Standard Deviation\n",
    "std = var ** 0.5\n",
    "print(f\"Standard Deviation of the array is {std:.2f}\")\n"
   ]
  },
  {
   "cell_type": "code",
   "execution_count": 23,
   "metadata": {},
   "outputs": [
    {
     "name": "stdout",
     "output_type": "stream",
     "text": [
      "Euclidean distance between 0 and 1 is: 1.00\n",
      "Euclidean distance between 1 and 1 is: 0.00\n",
      "Euclidean distance between 1 and 1 is: 0.00\n",
      "Euclidean distance between 1 and 1 is: 0.00\n",
      "Euclidean distance between 1 and 2 is: 1.00\n",
      "Euclidean distance between 2 and 3 is: 1.00\n",
      "Euclidean distance between 3 and 4 is: 1.00\n",
      "Euclidean distance between 4 and 4 is: 0.00\n",
      "Euclidean distance between 4 and 6 is: 2.00\n",
      "Euclidean distance between 6 and 6 is: 0.00\n",
      "Euclidean distance between 6 and 7 is: 1.00\n",
      "Euclidean distance between 7 and 8 is: 1.00\n",
      "Euclidean distance between 8 and 9 is: 1.00\n"
     ]
    }
   ],
   "source": [
    "# Euclidean Distance\n",
    "# Calculate Euclidean distance between consecutive pairs of numbers\n",
    "for i in range(length-1):\n",
    "    distance = ((array[i] - array[i+1])**2)**0.5\n",
    "    print(f\"Euclidean distance between {array[i]} and {array[i+1]} is: {distance:.2f}\")\n",
    "\n"
   ]
  },
  {
   "cell_type": "code",
   "execution_count": 26,
   "metadata": {},
   "outputs": [
    {
     "name": "stdout",
     "output_type": "stream",
     "text": [
      "Sigmoid of 0 is 0.50\n",
      "Sigmoid of 1 is 0.73\n",
      "Sigmoid of 1 is 0.73\n",
      "Sigmoid of 1 is 0.73\n",
      "Sigmoid of 1 is 0.73\n",
      "Sigmoid of 2 is 0.88\n",
      "Sigmoid of 3 is 0.95\n",
      "Sigmoid of 4 is 0.98\n",
      "Sigmoid of 4 is 0.98\n",
      "Sigmoid of 6 is 1.00\n",
      "Sigmoid of 6 is 1.00\n",
      "Sigmoid of 7 is 1.00\n",
      "Sigmoid of 8 is 1.00\n",
      "Sigmoid of 9 is 1.00\n"
     ]
    }
   ],
   "source": [
    "import math\n",
    "# Sigmoid Function\n",
    "def sigmoid(x):\n",
    "    return 1/(1+math.exp(-x))\n",
    "\n",
    "for i in array:\n",
    "    print(f\"Sigmoid of {i} is {sigmoid(i):.2f}\")\n"
   ]
  }
 ],
 "metadata": {
  "kernelspec": {
   "display_name": "base",
   "language": "python",
   "name": "python3"
  },
  "language_info": {
   "codemirror_mode": {
    "name": "ipython",
    "version": 3
   },
   "file_extension": ".py",
   "mimetype": "text/x-python",
   "name": "python",
   "nbconvert_exporter": "python",
   "pygments_lexer": "ipython3",
   "version": "3.11.9"
  }
 },
 "nbformat": 4,
 "nbformat_minor": 2
}
